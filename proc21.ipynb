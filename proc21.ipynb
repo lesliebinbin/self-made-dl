{
 "cells": [
  {
   "cell_type": "code",
   "execution_count": 1,
   "metadata": {},
   "outputs": [],
   "source": [
    "import numpy as np\n",
    "import pandas as pd\n",
    "import matplotlib.pyplot as plt\n",
    "%matplotlib inline"
   ]
  },
  {
   "cell_type": "code",
   "execution_count": 2,
   "metadata": {},
   "outputs": [],
   "source": [
    "import dezero.functions as F\n",
    "from dezero import optimizers\n",
    "from dezero.models import MLP"
   ]
  },
  {
   "cell_type": "code",
   "execution_count": 3,
   "metadata": {},
   "outputs": [],
   "source": [
    "lr = .2\n",
    "optimizer = optimizers.SGD(lr)\n",
    "np.random.seed(0)\n",
    "x = np.random.rand(100, 1)\n",
    "y = np.sin(2 * np.pi * x) + np.random.randn(100, 1)\n",
    "max_iter = 10000\n",
    "hidden_size = 10\n",
    "model = MLP((hidden_size, 1))"
   ]
  },
  {
   "cell_type": "code",
   "execution_count": null,
   "metadata": {},
   "outputs": [],
   "source": [
    "optimizer.setup(model)\n",
    "for i in range(max_iter):\n",
    "    model.cleargrad()\n",
    "    y_pred = model(x)\n",
    "    loss = F.mean_squared_error(y, y_pred)\n",
    "    loss.backward()\n",
    "    optimizer.update()\n",
    "    if i % 1000 == 0:\n",
    "        print(f\"epoch = {i+1}, loss = {loss.data}\")"
   ]
  },
  {
   "cell_type": "code",
   "execution_count": null,
   "metadata": {},
   "outputs": [],
   "source": [
    "y_pred = model(x).data.squeeze()\n",
    "model.cleargrad()\n",
    "x = x.squeeze()\n",
    "y = y.squeeze()\n",
    "plt.scatter(x, y, label='ground truth')\n",
    "plt.scatter(x, y_pred, label='prediction')\n",
    "plt.legend()\n",
    "plt.show()"
   ]
  },
  {
   "cell_type": "code",
   "execution_count": 6,
   "metadata": {},
   "outputs": [],
   "source": [
    "lr = .2\n",
    "optimizer = optimizers.MomentumSGD(lr)\n",
    "np.random.seed(0)\n",
    "x = np.random.rand(100, 1)\n",
    "y = np.sin(2 * np.pi * x) + np.random.randn(100, 1)\n",
    "max_iter = 10000\n",
    "hidden_size = 10\n",
    "model = MLP((hidden_size, 1))"
   ]
  },
  {
   "cell_type": "code",
   "execution_count": null,
   "metadata": {},
   "outputs": [],
   "source": [
    "optimizer.setup(model)\n",
    "for i in range(max_iter):\n",
    "    model.cleargrad()\n",
    "    y_pred = model(x)\n",
    "    loss = F.mean_squared_error(y, y_pred)\n",
    "    loss.backward()\n",
    "    optimizer.update()\n",
    "    if i % 1000 == 0:\n",
    "        print(f\"epoch = {i+1}, loss = {loss.data}\")"
   ]
  },
  {
   "cell_type": "code",
   "execution_count": null,
   "metadata": {},
   "outputs": [],
   "source": [
    "y_pred = model(x).data.squeeze()\n",
    "model.cleargrad()\n",
    "x = x.squeeze()\n",
    "y = y.squeeze()\n",
    "plt.scatter(x, y, label='ground truth')\n",
    "plt.scatter(x, y_pred, label='prediction')\n",
    "plt.legend()\n",
    "plt.show()"
   ]
  },
  {
   "cell_type": "code",
   "execution_count": 9,
   "metadata": {},
   "outputs": [],
   "source": [
    "lr = .2\n",
    "optimizer = optimizers.Adam()\n",
    "np.random.seed(0)\n",
    "x = np.random.rand(100, 1)\n",
    "y = np.sin(2 * np.pi * x) + np.random.randn(100, 1)\n",
    "max_iter = 10000\n",
    "hidden_size = 10\n",
    "model = MLP((hidden_size, 1))"
   ]
  },
  {
   "cell_type": "code",
   "execution_count": null,
   "metadata": {},
   "outputs": [],
   "source": [
    "optimizer.setup(model)\n",
    "for i in range(max_iter):\n",
    "    model.cleargrad()\n",
    "    y_pred = model(x)\n",
    "    loss = F.mean_squared_error(y, y_pred)\n",
    "    loss.backward()\n",
    "    optimizer.update()\n",
    "    if i % 1000 == 0:\n",
    "        print(f\"epoch = {i+1}, loss = {loss.data}\")"
   ]
  },
  {
   "cell_type": "code",
   "execution_count": null,
   "metadata": {},
   "outputs": [],
   "source": [
    "y_pred = model(x).data.squeeze()\n",
    "model.cleargrad()\n",
    "x = x.squeeze()\n",
    "y = y.squeeze()\n",
    "plt.scatter(x, y, label='ground truth')\n",
    "plt.scatter(x, y_pred, label='prediction')\n",
    "plt.legend()\n",
    "plt.show()"
   ]
  }
 ],
 "metadata": {
  "kernelspec": {
   "display_name": "self-made-dl",
   "language": "python",
   "name": "python3"
  },
  "language_info": {
   "codemirror_mode": {
    "name": "ipython",
    "version": 3
   },
   "file_extension": ".py",
   "mimetype": "text/x-python",
   "name": "python",
   "nbconvert_exporter": "python",
   "pygments_lexer": "ipython3",
   "version": "3.12.8"
  }
 },
 "nbformat": 4,
 "nbformat_minor": 2
}
